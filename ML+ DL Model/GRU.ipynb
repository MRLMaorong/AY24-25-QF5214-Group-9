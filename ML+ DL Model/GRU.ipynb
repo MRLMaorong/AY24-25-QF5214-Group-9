{
 "cells": [
  {
   "cell_type": "code",
   "execution_count": 2,
   "id": "6e6fb84f-47d1-4231-99ea-14e4aadf5958",
   "metadata": {},
   "outputs": [],
   "source": [
    "import tensorflow as tf\n",
    "from tensorflow import keras\n",
    "from tensorflow.keras import layers\n",
    "from tensorflow.keras.callbacks import EarlyStopping,ReduceLROnPlateau\n",
    "import numpy as np\n",
    "import pandas as pd\n",
    "import pickle\n",
    "import keras_tuner as kt"
   ]
  },
  {
   "cell_type": "code",
   "execution_count": 3,
   "id": "66099b91",
   "metadata": {},
   "outputs": [],
   "source": [
    "with open('train_data.pkl', 'rb') as f:\n",
    "    X_train, y_train = pickle.load(f)\n",
    "with open('test_data.pkl', 'rb') as f:\n",
    "    X_test, y_test = pickle.load(f)"
   ]
  },
  {
   "cell_type": "code",
   "execution_count": null,
   "id": "d421935c",
   "metadata": {},
   "outputs": [],
   "source": [
    "n_steps = 3  \n",
    "features = ['CI005001', 'CI005002',\n",
    "       'CI005003', 'CI005004', 'CI005005', 'CI005006', 'CI005007', 'CI005008',\n",
    "       'CI005009', 'CI005010', 'CI005011', 'CI005012', 'CI005013', 'CI005014',\n",
    "       'CI005015', 'CI005016', 'CI005017', 'CI005018', 'CI005019', 'CI005020',\n",
    "       'CI005021', 'CI005022', 'CI005023', 'CI005024', 'CI005025', 'CI005026',\n",
    "       'CI005027', 'CI005028', 'CI005029', 'CI005030', 'Analyst Sentiment',\n",
    "       'Beta', 'Book-to-Price', 'Dividend Yield', 'Earnings Quality',\n",
    "       'Earnings Variability', 'Earnings Yield', 'Growth', 'Industry Momentum',\n",
    "       'Investment Quality', 'Leverage', 'Liquidity', 'Long-Term Reversal',\n",
    "       'Mid Capitalization', 'Momentum', 'Profitability',\n",
    "       'Residual Volatility', 'Seasonality', 'Short-Term Reversal', 'Size']  \n",
    "target = 'next_Rtn'"
   ]
  },
  {
   "cell_type": "code",
   "execution_count": 4,
   "id": "a59efb72-1805-405b-b36f-2182c473808c",
   "metadata": {},
   "outputs": [],
   "source": [
    "def build_gru_model(hp):\n",
    "    model = keras.Sequential()\n",
    "    model.add(layers.GRU(\n",
    "        units=hp.Int('gru_units_1', min_value=64, max_value=256, step=32),\n",
    "        return_sequences=True,\n",
    "        input_shape=(n_steps, len(features))\n",
    "    ))\n",
    "    model.add(layers.Dropout(\n",
    "        rate=hp.Float('dropout_1', min_value=0.2, max_value=0.5, step=0.1)\n",
    "    ))\n",
    "    model.add(layers.GRU(\n",
    "        units=hp.Int('gru_units_2', min_value=32, max_value=128, step=32)\n",
    "    ))\n",
    "    model.add(layers.Dropout(\n",
    "        rate=hp.Float('dropout_2', min_value=0.1, max_value=0.4, step=0.1)\n",
    "    ))\n",
    "    model.add(layers.Dense(1))\n",
    "    lr = hp.Choice('learning_rate', values=[1e-2, 1e-3, 1e-4])\n",
    "    optimizer = keras.optimizers.Adam(learning_rate=lr, clipnorm=1.0) \n",
    "    model.compile(optimizer=optimizer, loss='mse', metrics=['mae'])\n",
    "    return model"
   ]
  },
  {
   "cell_type": "code",
   "execution_count": 9,
   "id": "18d243f1-7d78-469d-b9ff-5d97b1699fb0",
   "metadata": {},
   "outputs": [],
   "source": [
    "tuner = kt.RandomSearch(\n",
    "    build_gru_model,\n",
    "    objective='val_loss',\n",
    "    max_trials=10, \n",
    "    executions_per_trial=1,\n",
    "    directory='gru_tuning',\n",
    "    project_name='stock_prediction'\n",
    ")"
   ]
  },
  {
   "cell_type": "code",
   "execution_count": 10,
   "id": "96b0196b-2847-488f-a48b-81743b86f6e1",
   "metadata": {},
   "outputs": [],
   "source": [
    "early_stop = EarlyStopping(monitor='val_loss', patience=10, restore_best_weights=True)\n",
    "reduce_lr = ReduceLROnPlateau(monitor='val_loss', factor=0.5, patience=3)"
   ]
  },
  {
   "cell_type": "code",
   "execution_count": 12,
   "id": "454ff163-1840-4233-a283-8fcf317d1b97",
   "metadata": {},
   "outputs": [
    {
     "name": "stdout",
     "output_type": "stream",
     "text": [
      "Trial 10 Complete [00h 06m 39s]\n",
      "val_loss: 0.0168549045920372\n",
      "\n",
      "Best val_loss So Far: 0.016798270866274834\n",
      "Total elapsed time: 01h 07m 53s\n"
     ]
    }
   ],
   "source": [
    "tuner.search(\n",
    "    X_train, y_train,\n",
    "    epochs=5,\n",
    "    batch_size=32,\n",
    "    validation_split=0.2,\n",
    "    callbacks=[early_stop, reduce_lr],\n",
    "    verbose=1\n",
    ")"
   ]
  },
  {
   "cell_type": "code",
   "execution_count": 13,
   "id": "1ac580d6-313c-40f2-8812-84937748fd19",
   "metadata": {},
   "outputs": [],
   "source": [
    "best_model = tuner.get_best_models(num_models=1)[0]\n",
    "best_hps = tuner.get_best_hyperparameters(num_trials=1)[0]"
   ]
  },
  {
   "cell_type": "code",
   "execution_count": 14,
   "id": "5db124f1-9d6f-49b8-8232-1b3c327bb5e8",
   "metadata": {},
   "outputs": [
    {
     "name": "stdout",
     "output_type": "stream",
     "text": [
      "\n",
      "Best parameters:\n",
      "GRU 1: 64\n",
      "GRU 2: 32\n",
      "Dropout 1: 0.30000000000000004\n",
      "Dropout 2: 0.2\n",
      "lr: 0.001\n"
     ]
    }
   ],
   "source": [
    "print(\"\\nBest parameters:\")\n",
    "print(f\"GRU 1: {best_hps.get('gru_units_1')}\")\n",
    "print(f\"GRU 2: {best_hps.get('gru_units_2')}\")\n",
    "print(f\"Dropout 1: {best_hps.get('dropout_1')}\")\n",
    "print(f\"Dropout 2: {best_hps.get('dropout_2')}\")\n",
    "print(f\"lr: {best_hps.get('learning_rate')}\")"
   ]
  },
  {
   "cell_type": "code",
   "execution_count": 15,
   "id": "a0cb0be7-d8c4-4f47-8c3d-0ba22eddf48b",
   "metadata": {},
   "outputs": [
    {
     "name": "stdout",
     "output_type": "stream",
     "text": [
      "Epoch 1/20\n",
      "13322/13326 [============================>.] - ETA: 0s - loss: 0.0187 - mae: 0.0965WARNING:tensorflow:Early stopping conditioned on metric `val_loss` which is not available. Available metrics are: loss,mae\n",
      "WARNING:tensorflow:Learning rate reduction is conditioned on metric `val_loss` which is not available. Available metrics are: loss,mae,lr\n",
      "13326/13326 [==============================] - 97s 7ms/step - loss: 0.0187 - mae: 0.0965 - lr: 0.0010\n",
      "Epoch 2/20\n",
      "13325/13326 [============================>.] - ETA: 0s - loss: 0.0186 - mae: 0.0962WARNING:tensorflow:Early stopping conditioned on metric `val_loss` which is not available. Available metrics are: loss,mae\n",
      "WARNING:tensorflow:Learning rate reduction is conditioned on metric `val_loss` which is not available. Available metrics are: loss,mae,lr\n",
      "13326/13326 [==============================] - 96s 7ms/step - loss: 0.0186 - mae: 0.0962 - lr: 0.0010\n",
      "Epoch 3/20\n",
      "13320/13326 [============================>.] - ETA: 0s - loss: 0.0185 - mae: 0.0960WARNING:tensorflow:Early stopping conditioned on metric `val_loss` which is not available. Available metrics are: loss,mae\n",
      "WARNING:tensorflow:Learning rate reduction is conditioned on metric `val_loss` which is not available. Available metrics are: loss,mae,lr\n",
      "13326/13326 [==============================] - 94s 7ms/step - loss: 0.0185 - mae: 0.0960 - lr: 0.0010\n",
      "Epoch 4/20\n",
      "13322/13326 [============================>.] - ETA: 0s - loss: 0.0184 - mae: 0.0957WARNING:tensorflow:Early stopping conditioned on metric `val_loss` which is not available. Available metrics are: loss,mae\n",
      "WARNING:tensorflow:Learning rate reduction is conditioned on metric `val_loss` which is not available. Available metrics are: loss,mae,lr\n",
      "13326/13326 [==============================] - 95s 7ms/step - loss: 0.0184 - mae: 0.0957 - lr: 0.0010\n",
      "Epoch 5/20\n",
      "13322/13326 [============================>.] - ETA: 0s - loss: 0.0183 - mae: 0.0955WARNING:tensorflow:Early stopping conditioned on metric `val_loss` which is not available. Available metrics are: loss,mae\n",
      "WARNING:tensorflow:Learning rate reduction is conditioned on metric `val_loss` which is not available. Available metrics are: loss,mae,lr\n",
      "13326/13326 [==============================] - 97s 7ms/step - loss: 0.0183 - mae: 0.0955 - lr: 0.0010\n",
      "Epoch 6/20\n",
      "13326/13326 [==============================] - ETA: 0s - loss: 0.0182 - mae: 0.0953WARNING:tensorflow:Early stopping conditioned on metric `val_loss` which is not available. Available metrics are: loss,mae\n",
      "WARNING:tensorflow:Learning rate reduction is conditioned on metric `val_loss` which is not available. Available metrics are: loss,mae,lr\n",
      "13326/13326 [==============================] - 98s 7ms/step - loss: 0.0182 - mae: 0.0953 - lr: 0.0010\n",
      "Epoch 7/20\n",
      "13326/13326 [==============================] - ETA: 0s - loss: 0.0181 - mae: 0.0952WARNING:tensorflow:Early stopping conditioned on metric `val_loss` which is not available. Available metrics are: loss,mae\n",
      "WARNING:tensorflow:Learning rate reduction is conditioned on metric `val_loss` which is not available. Available metrics are: loss,mae,lr\n",
      "13326/13326 [==============================] - 96s 7ms/step - loss: 0.0181 - mae: 0.0952 - lr: 0.0010\n",
      "Epoch 8/20\n",
      "13322/13326 [============================>.] - ETA: 0s - loss: 0.0181 - mae: 0.0950WARNING:tensorflow:Early stopping conditioned on metric `val_loss` which is not available. Available metrics are: loss,mae\n",
      "WARNING:tensorflow:Learning rate reduction is conditioned on metric `val_loss` which is not available. Available metrics are: loss,mae,lr\n",
      "13326/13326 [==============================] - 96s 7ms/step - loss: 0.0181 - mae: 0.0950 - lr: 0.0010\n",
      "Epoch 9/20\n",
      "13323/13326 [============================>.] - ETA: 0s - loss: 0.0180 - mae: 0.0949WARNING:tensorflow:Early stopping conditioned on metric `val_loss` which is not available. Available metrics are: loss,mae\n",
      "WARNING:tensorflow:Learning rate reduction is conditioned on metric `val_loss` which is not available. Available metrics are: loss,mae,lr\n",
      "13326/13326 [==============================] - 97s 7ms/step - loss: 0.0180 - mae: 0.0949 - lr: 0.0010\n",
      "Epoch 10/20\n",
      "13319/13326 [============================>.] - ETA: 0s - loss: 0.0179 - mae: 0.0947WARNING:tensorflow:Early stopping conditioned on metric `val_loss` which is not available. Available metrics are: loss,mae\n",
      "WARNING:tensorflow:Learning rate reduction is conditioned on metric `val_loss` which is not available. Available metrics are: loss,mae,lr\n",
      "13326/13326 [==============================] - 99s 7ms/step - loss: 0.0179 - mae: 0.0947 - lr: 0.0010\n",
      "Epoch 11/20\n",
      "13319/13326 [============================>.] - ETA: 0s - loss: 0.0179 - mae: 0.0946WARNING:tensorflow:Early stopping conditioned on metric `val_loss` which is not available. Available metrics are: loss,mae\n",
      "WARNING:tensorflow:Learning rate reduction is conditioned on metric `val_loss` which is not available. Available metrics are: loss,mae,lr\n",
      "13326/13326 [==============================] - 97s 7ms/step - loss: 0.0179 - mae: 0.0946 - lr: 0.0010\n",
      "Epoch 12/20\n",
      "13326/13326 [==============================] - ETA: 0s - loss: 0.0178 - mae: 0.0945WARNING:tensorflow:Early stopping conditioned on metric `val_loss` which is not available. Available metrics are: loss,mae\n",
      "WARNING:tensorflow:Learning rate reduction is conditioned on metric `val_loss` which is not available. Available metrics are: loss,mae,lr\n",
      "13326/13326 [==============================] - 95s 7ms/step - loss: 0.0178 - mae: 0.0945 - lr: 0.0010\n",
      "Epoch 13/20\n",
      "13326/13326 [==============================] - ETA: 0s - loss: 0.0178 - mae: 0.0944WARNING:tensorflow:Early stopping conditioned on metric `val_loss` which is not available. Available metrics are: loss,mae\n",
      "WARNING:tensorflow:Learning rate reduction is conditioned on metric `val_loss` which is not available. Available metrics are: loss,mae,lr\n",
      "13326/13326 [==============================] - 96s 7ms/step - loss: 0.0178 - mae: 0.0944 - lr: 0.0010\n",
      "Epoch 14/20\n",
      "13324/13326 [============================>.] - ETA: 0s - loss: 0.0177 - mae: 0.0943WARNING:tensorflow:Early stopping conditioned on metric `val_loss` which is not available. Available metrics are: loss,mae\n",
      "WARNING:tensorflow:Learning rate reduction is conditioned on metric `val_loss` which is not available. Available metrics are: loss,mae,lr\n",
      "13326/13326 [==============================] - 98s 7ms/step - loss: 0.0177 - mae: 0.0943 - lr: 0.0010\n",
      "Epoch 15/20\n",
      "13326/13326 [==============================] - ETA: 0s - loss: 0.0177 - mae: 0.0942WARNING:tensorflow:Early stopping conditioned on metric `val_loss` which is not available. Available metrics are: loss,mae\n",
      "WARNING:tensorflow:Learning rate reduction is conditioned on metric `val_loss` which is not available. Available metrics are: loss,mae,lr\n",
      "13326/13326 [==============================] - 96s 7ms/step - loss: 0.0177 - mae: 0.0942 - lr: 0.0010\n",
      "Epoch 16/20\n",
      "13319/13326 [============================>.] - ETA: 0s - loss: 0.0176 - mae: 0.0941WARNING:tensorflow:Early stopping conditioned on metric `val_loss` which is not available. Available metrics are: loss,mae\n",
      "WARNING:tensorflow:Learning rate reduction is conditioned on metric `val_loss` which is not available. Available metrics are: loss,mae,lr\n",
      "13326/13326 [==============================] - 95s 7ms/step - loss: 0.0176 - mae: 0.0941 - lr: 0.0010\n",
      "Epoch 17/20\n",
      "13320/13326 [============================>.] - ETA: 0s - loss: 0.0176 - mae: 0.0941WARNING:tensorflow:Early stopping conditioned on metric `val_loss` which is not available. Available metrics are: loss,mae\n",
      "WARNING:tensorflow:Learning rate reduction is conditioned on metric `val_loss` which is not available. Available metrics are: loss,mae,lr\n",
      "13326/13326 [==============================] - 96s 7ms/step - loss: 0.0176 - mae: 0.0941 - lr: 0.0010\n",
      "Epoch 18/20\n",
      "13322/13326 [============================>.] - ETA: 0s - loss: 0.0176 - mae: 0.0940WARNING:tensorflow:Early stopping conditioned on metric `val_loss` which is not available. Available metrics are: loss,mae\n",
      "WARNING:tensorflow:Learning rate reduction is conditioned on metric `val_loss` which is not available. Available metrics are: loss,mae,lr\n",
      "13326/13326 [==============================] - 97s 7ms/step - loss: 0.0176 - mae: 0.0940 - lr: 0.0010\n",
      "Epoch 19/20\n",
      "13326/13326 [==============================] - ETA: 0s - loss: 0.0175 - mae: 0.0940WARNING:tensorflow:Early stopping conditioned on metric `val_loss` which is not available. Available metrics are: loss,mae\n",
      "WARNING:tensorflow:Learning rate reduction is conditioned on metric `val_loss` which is not available. Available metrics are: loss,mae,lr\n",
      "13326/13326 [==============================] - 95s 7ms/step - loss: 0.0175 - mae: 0.0940 - lr: 0.0010\n",
      "Epoch 20/20\n",
      "13320/13326 [============================>.] - ETA: 0s - loss: 0.0175 - mae: 0.0940WARNING:tensorflow:Early stopping conditioned on metric `val_loss` which is not available. Available metrics are: loss,mae\n",
      "WARNING:tensorflow:Learning rate reduction is conditioned on metric `val_loss` which is not available. Available metrics are: loss,mae,lr\n",
      "13326/13326 [==============================] - 94s 7ms/step - loss: 0.0175 - mae: 0.0940 - lr: 0.0010\n"
     ]
    }
   ],
   "source": [
    "history = best_model.fit(\n",
    "    X_train, y_train,\n",
    "    epochs=20,\n",
    "    batch_size=32,\n",
    "    callbacks=[early_stop, reduce_lr],\n",
    "    verbose=1\n",
    ")"
   ]
  },
  {
   "cell_type": "code",
   "execution_count": 16,
   "id": "a7474fa4",
   "metadata": {},
   "outputs": [],
   "source": [
    "def calculate_metrics(y_test, y_pred):\n",
    "    n = len(y_test)\n",
    "    \n",
    "    mse = sum((y_test[i] - y_pred[i]) ** 2 for i in range(n)) / n\n",
    "    \n",
    "    rmse = mse ** 0.5  \n",
    "    \n",
    "    mae = sum(abs(y_test[i] - y_pred[i]) for i in range(n)) / n\n",
    "    \n",
    "    mean_y = sum(y_test) / n\n",
    "    std_y=np.std(y_test)\n",
    "    ss_tot = sum((y - mean_y) ** 2 for y in y_test)\n",
    "    ss_res = sum((y_test[i] - y_pred[i]) ** 2 for i in range(n))\n",
    "    r2 = 1 - (ss_res / ss_tot) if ss_tot != 0 else 0\n",
    "    \n",
    "    return mse, rmse, mae, r2, mean_y,std_y\n",
    "\n",
    "\n"
   ]
  },
  {
   "cell_type": "code",
   "execution_count": 20,
   "id": "cbdb35d3-ee21-45f7-a2e8-f33f209c14b5",
   "metadata": {},
   "outputs": [
    {
     "name": "stdout",
     "output_type": "stream",
     "text": [
      "2259/2259 [==============================] - 5s 2ms/step\n",
      "\n",
      "Final results:\n",
      "MSE: 0.015842\n",
      "RMSE: 0.125866\n",
      "MAE: 0.086968\n",
      "R²: -0.077416\n",
      "y_mean :-0.007134583690839367,y_std:0.12126015501029316\n"
     ]
    }
   ],
   "source": [
    "y_pred = best_model.predict(X_test)\n",
    "mse, rmse, mae, r2,mean_y,std_y= calculate_metrics(y_test, y_pred)\n",
    "print(\"\\nFinal results:\")\n",
    "print(f\"MSE: {mse.item():.6f}\")\n",
    "print(f\"RMSE: {rmse.item():.6f}\")\n",
    "print(f\"MAE: {mae.item():.6f}\")\n",
    "print(f\"R²: {r2.item():.6f}\")\n",
    "print(f\"y_mean :{mean_y},y_std:{std_y}\")"
   ]
  },
  {
   "cell_type": "code",
   "execution_count": 21,
   "id": "a90dddbb",
   "metadata": {},
   "outputs": [
    {
     "name": "stdout",
     "output_type": "stream",
     "text": [
      "模型已保存至 GRU_model.h5\n"
     ]
    }
   ],
   "source": [
    "best_model.save('GRU_model.h5')\n",
    "print(\"模型已保存至 GRU_model.h5\")"
   ]
  }
 ],
 "metadata": {
  "kernelspec": {
   "display_name": "tf",
   "language": "python",
   "name": "python3"
  },
  "language_info": {
   "codemirror_mode": {
    "name": "ipython",
    "version": 3
   },
   "file_extension": ".py",
   "mimetype": "text/x-python",
   "name": "python",
   "nbconvert_exporter": "python",
   "pygments_lexer": "ipython3",
   "version": "3.9.21"
  }
 },
 "nbformat": 4,
 "nbformat_minor": 5
}
